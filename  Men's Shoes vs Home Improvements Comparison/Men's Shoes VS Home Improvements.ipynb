{
 "cells": [
  {
   "cell_type": "markdown",
   "id": "9f9fe619",
   "metadata": {},
   "source": [
    "# Imports"
   ]
  },
  {
   "cell_type": "code",
   "execution_count": 3,
   "id": "dac5abee",
   "metadata": {},
   "outputs": [],
   "source": [
    "import pandas as pd\n",
    "import bls"
   ]
  },
  {
   "cell_type": "markdown",
   "id": "40a2d887",
   "metadata": {},
   "source": [
    "# Chapter 2: Plot a simple bar graph\n",
    "Here's a simple exercise that'll help you internalize the tools you need to use data from external APIs. Search the US Bureau of Labor Statistics website to get the API endpoints for, say, Department Store Inventory Price Index for both Men's Shoes and Home Improvements. Then import the data using the bls module and plot a simple bar graph comparing value changes. This is another perfectly useless exercise from the perspective of data insights, but represents an important skill."
   ]
  },
  {
   "cell_type": "markdown",
   "id": "1a897a19",
   "metadata": {},
   "source": [
    "# Solution"
   ]
  },
  {
   "cell_type": "code",
   "execution_count": null,
   "id": "81ec1eda",
   "metadata": {},
   "outputs": [],
   "source": []
  }
 ],
 "metadata": {
  "kernelspec": {
   "display_name": "Python 3 (ipykernel)",
   "language": "python",
   "name": "python3"
  },
  "language_info": {
   "codemirror_mode": {
    "name": "ipython",
    "version": 3
   },
   "file_extension": ".py",
   "mimetype": "text/x-python",
   "name": "python",
   "nbconvert_exporter": "python",
   "pygments_lexer": "ipython3",
   "version": "3.10.8"
  }
 },
 "nbformat": 4,
 "nbformat_minor": 5
}
