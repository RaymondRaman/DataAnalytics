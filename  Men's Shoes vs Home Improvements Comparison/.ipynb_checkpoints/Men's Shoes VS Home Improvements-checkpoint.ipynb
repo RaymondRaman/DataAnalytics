{
 "cells": [
  {
   "cell_type": "markdown",
   "id": "9f9fe619",
   "metadata": {},
   "source": [
    "# Imports"
   ]
  },
  {
   "cell_type": "code",
   "execution_count": 34,
   "id": "dac5abee",
   "metadata": {},
   "outputs": [],
   "source": [
    "import pandas as pd\n",
    "import bls"
   ]
  },
  {
   "cell_type": "markdown",
   "id": "40a2d887",
   "metadata": {},
   "source": [
    "# Chapter 2: Plot a simple bar graph\n",
    "Here's a simple exercise that'll help you internalize the tools you need to use data from external APIs. Search the US Bureau of Labor Statistics website to get the API endpoints for, say, Department Store Inventory Price Index for both Men's Shoes and Home Improvements. Then import the data using the bls module and plot a simple bar graph comparing value changes. This is another perfectly useless exercise from the perspective of data insights, but represents an important skill."
   ]
  },
  {
   "cell_type": "markdown",
   "id": "1a897a19",
   "metadata": {},
   "source": [
    "# Solution"
   ]
  },
  {
   "cell_type": "code",
   "execution_count": 35,
   "id": "81ec1eda",
   "metadata": {},
   "outputs": [],
   "source": [
    "#import neccessary library\n",
    "import pandas as pd\n",
    "import matplotlib as plt\n",
    "import numpy as np\n",
    "import bls"
   ]
  },
  {
   "cell_type": "code",
   "execution_count": 36,
   "id": "095f3794",
   "metadata": {},
   "outputs": [
    {
     "name": "stderr",
     "output_type": "stream",
     "text": [
      "No Data Available for Series LIUR0000SL00004 Year: 2014\n",
      "No Data Available for Series LIUR0000SL00004 Year: 2015\n",
      "No Data Available for Series LIUR0000SL00004 Year: 2016\n",
      "No Data Available for Series LIUR0000SL00004 Year: 2017\n",
      "No Data Available for Series LIUR0000SL00004 Year: 2018\n",
      "No Data Available for Series LIUR0000SL00004 Year: 2019\n",
      "No Data Available for Series LIUR0000SL00004 Year: 2020\n",
      "No Data Available for Series LIUR0000SL00004 Year: 2021\n",
      "No Data Available for Series LIUR0000SL00004 Year: 2022\n",
      "No Data Available for Series LIUR0000SL00004 Year: 2023\n"
     ]
    },
    {
     "name": "stdout",
     "output_type": "stream",
     "text": [
      "date\n",
      "2004-01     849.6\n",
      "2004-02     850.4\n",
      "2004-03     840.1\n",
      "2004-04     856.4\n",
      "2004-05     868.4\n",
      "            ...  \n",
      "2013-08    1001.5\n",
      "2013-09    1003.1\n",
      "2013-10    1011.7\n",
      "2013-11    1009.7\n",
      "2013-12     993.2\n",
      "Freq: M, Name: LIUR0000SL00004, Length: 120, dtype: float64\n"
     ]
    }
   ],
   "source": [
    "# get Men's Shoes data from US BLS\n",
    "menShoes = bls.get_series('LIUR0000SL00004')\n",
    "print(menShoes)"
   ]
  },
  {
   "cell_type": "code",
   "execution_count": 37,
   "id": "6504d9ad",
   "metadata": {},
   "outputs": [
    {
     "name": "stdout",
     "output_type": "stream",
     "text": [
      "        Date  Men's Shoes\n",
      "0    2004-01        849.6\n",
      "1    2004-02        850.4\n",
      "2    2004-03        840.1\n",
      "3    2004-04        856.4\n",
      "4    2004-05        868.4\n",
      "..       ...          ...\n",
      "115  2013-08       1001.5\n",
      "116  2013-09       1003.1\n",
      "117  2013-10       1011.7\n",
      "118  2013-11       1009.7\n",
      "119  2013-12        993.2\n",
      "\n",
      "[120 rows x 2 columns]\n"
     ]
    }
   ],
   "source": [
    "# store the menShoes data into a new csv file\n",
    "# Compare the two dataset by quarter\n",
    "# convert the Men's Shoes data into a dataframe\n",
    "menShoes.to_csv('bls_menShoes.csv')\n",
    "menShoes_data = pd.read_csv('bls_menShoes.csv')\n",
    "menShoes_data.columns = 'Date', 'Men\\'s Shoes'\n",
    "print(menShoes_data)"
   ]
  },
  {
   "cell_type": "code",
   "execution_count": 38,
   "id": "470242ff",
   "metadata": {},
   "outputs": [
    {
     "name": "stdout",
     "output_type": "stream",
     "text": [
      "        Date  Men's Shoes\n",
      "0    2004-01        849.6\n",
      "1    2004-02        850.4\n",
      "2     2004Q1        840.1\n",
      "3    2004-04        856.4\n",
      "4    2004-05        868.4\n",
      "..       ...          ...\n",
      "115  2013-08       1001.5\n",
      "116   2013Q3       1003.1\n",
      "117  2013-10       1011.7\n",
      "118  2013-11       1009.7\n",
      "119   2013Q4        993.2\n",
      "\n",
      "[120 rows x 2 columns]\n"
     ]
    }
   ],
   "source": [
    "#Change the date by quarter\n",
    "menShoes_data['Date'] = menShoes_data['Date'].str.replace('-03', 'Q1')\n",
    "menShoes_data['Date'] = menShoes_data['Date'].str.replace('-06', 'Q2')\n",
    "menShoes_data['Date'] = menShoes_data['Date'].str.replace('-09', 'Q3')\n",
    "menShoes_data['Date'] = menShoes_data['Date'].str.replace('-12', 'Q4')\n",
    "print(menShoes_data)"
   ]
  },
  {
   "cell_type": "code",
   "execution_count": 46,
   "id": "99070a23",
   "metadata": {},
   "outputs": [
    {
     "name": "stdout",
     "output_type": "stream",
     "text": [
      "       Date  Men's Shoes\n",
      "2    2004Q1        840.1\n",
      "5    2004Q2        854.5\n",
      "8    2004Q3        842.8\n",
      "11   2004Q4        841.5\n",
      "14   2005Q1        849.9\n",
      "17   2005Q2        878.2\n",
      "20   2005Q3        890.9\n",
      "23   2005Q4        862.7\n",
      "26   2006Q1        875.8\n",
      "29   2006Q2        892.0\n",
      "32   2006Q3        888.7\n",
      "35   2006Q4        889.6\n",
      "38   2007Q1        862.7\n",
      "41   2007Q2        848.5\n",
      "44   2007Q3        870.3\n",
      "47   2007Q4        863.3\n",
      "50   2008Q1        879.1\n",
      "53   2008Q2        895.2\n",
      "56   2008Q3        902.9\n",
      "59   2008Q4        909.3\n",
      "62   2009Q1        912.9\n",
      "65   2009Q2        920.0\n",
      "68   2009Q3        920.6\n",
      "71   2009Q4        934.1\n",
      "74   2010Q1        925.6\n",
      "77   2010Q2        930.5\n",
      "80   2010Q3        918.1\n",
      "83   2010Q4        906.3\n",
      "86   2011Q1        937.5\n",
      "89   2011Q2        954.6\n",
      "92   2011Q3        971.2\n",
      "95   2011Q4        947.2\n",
      "98   2012Q1        952.4\n",
      "101  2012Q2        969.4\n",
      "104  2012Q3        974.8\n",
      "107  2012Q4        985.2\n",
      "110  2013Q1       1005.3\n",
      "113  2013Q2        994.5\n",
      "116  2013Q3       1003.1\n",
      "119  2013Q4        993.2\n"
     ]
    }
   ],
   "source": [
    "# Drop the row that is not related to quarter\n",
    "menShoes_data = menShoes_data[(menShoes_data.Date.str.contains(\"-\") == False)]\n",
    "print(menShoes_data)"
   ]
  },
  {
   "cell_type": "code",
   "execution_count": 43,
   "id": "d33e3e9a",
   "metadata": {},
   "outputs": [
    {
     "name": "stderr",
     "output_type": "stream",
     "text": [
      "No Data Available for Series LIUR0000SL00022 Year: 2014\n",
      "No Data Available for Series LIUR0000SL00022 Year: 2015\n",
      "No Data Available for Series LIUR0000SL00022 Year: 2016\n",
      "No Data Available for Series LIUR0000SL00022 Year: 2017\n",
      "No Data Available for Series LIUR0000SL00022 Year: 2018\n",
      "No Data Available for Series LIUR0000SL00022 Year: 2019\n",
      "No Data Available for Series LIUR0000SL00022 Year: 2020\n",
      "No Data Available for Series LIUR0000SL00022 Year: 2021\n",
      "No Data Available for Series LIUR0000SL00022 Year: 2022\n",
      "No Data Available for Series LIUR0000SL00022 Year: 2023\n"
     ]
    },
    {
     "name": "stdout",
     "output_type": "stream",
     "text": [
      "date\n",
      "2004-01    127.7\n",
      "2004-02    128.9\n",
      "2004-03    127.8\n",
      "2004-04    128.0\n",
      "2004-05    129.1\n",
      "           ...  \n",
      "2013-08    167.7\n",
      "2013-09    167.0\n",
      "2013-10    165.9\n",
      "2013-11    165.7\n",
      "2013-12    165.9\n",
      "Freq: M, Name: LIUR0000SL00022, Length: 120, dtype: float64\n"
     ]
    }
   ],
   "source": [
    "# get Home Improvements data from US BLS\n",
    "homeImpro = bls.get_series('LIUR0000SL00022')\n",
    "print(homeImpro)"
   ]
  },
  {
   "cell_type": "code",
   "execution_count": 45,
   "id": "9293468b",
   "metadata": {},
   "outputs": [
    {
     "name": "stdout",
     "output_type": "stream",
     "text": [
      "        Date  Home Improvement's price\n",
      "0    2004-01                     127.7\n",
      "1    2004-02                     128.9\n",
      "2    2004-03                     127.8\n",
      "3    2004-04                     128.0\n",
      "4    2004-05                     129.1\n",
      "..       ...                       ...\n",
      "115  2013-08                     167.7\n",
      "116  2013-09                     167.0\n",
      "117  2013-10                     165.9\n",
      "118  2013-11                     165.7\n",
      "119  2013-12                     165.9\n",
      "\n",
      "[120 rows x 2 columns]\n"
     ]
    }
   ],
   "source": [
    "# store the homeImpro into a new csv file\n",
    "# add the column headers \n",
    "homeImpro.to_csv('bls_homeImpro_data.csv')\n",
    "homeImpro_data = pd.read_csv('bls_homeImpro_data.csv')\n",
    "homeImpro_data.columns = 'Date', 'Home Improvement\\'s price'\n",
    "print(homeImpro_data)"
   ]
  },
  {
   "cell_type": "code",
   "execution_count": 48,
   "id": "5b81d923",
   "metadata": {},
   "outputs": [
    {
     "name": "stdout",
     "output_type": "stream",
     "text": [
      "        Date  Home Improvement's price\n",
      "0    2004-01                     127.7\n",
      "1    2004-02                     128.9\n",
      "2     2004Q1                     127.8\n",
      "3    2004-04                     128.0\n",
      "4    2004-05                     129.1\n",
      "..       ...                       ...\n",
      "115  2013-08                     167.7\n",
      "116   2013Q3                     167.0\n",
      "117  2013-10                     165.9\n",
      "118  2013-11                     165.7\n",
      "119   2013Q4                     165.9\n",
      "\n",
      "[120 rows x 2 columns]\n"
     ]
    }
   ],
   "source": [
    "#Change the date by quarter\n",
    "homeImpro_data['Date'] = homeImpro_data['Date'].str.replace('-03', 'Q1')\n",
    "homeImpro_data['Date'] = homeImpro_data['Date'].str.replace('-06', 'Q2')\n",
    "homeImpro_data['Date'] = homeImpro_data['Date'].str.replace('-09', 'Q3')\n",
    "homeImpro_data['Date'] = homeImpro_data['Date'].str.replace('-12', 'Q4')\n",
    "print(homeImpro_data)"
   ]
  },
  {
   "cell_type": "code",
   "execution_count": 49,
   "id": "d2d30a44",
   "metadata": {},
   "outputs": [
    {
     "name": "stdout",
     "output_type": "stream",
     "text": [
      "       Date  Home Improvement's price\n",
      "2    2004Q1                     127.8\n",
      "5    2004Q2                     129.3\n",
      "8    2004Q3                     128.9\n",
      "11   2004Q4                     131.7\n",
      "14   2005Q1                     137.3\n",
      "17   2005Q2                     137.8\n",
      "20   2005Q3                     136.4\n",
      "23   2005Q4                     136.7\n",
      "26   2006Q1                     139.5\n",
      "29   2006Q2                     139.3\n",
      "32   2006Q3                     140.9\n",
      "35   2006Q4                     141.2\n",
      "38   2007Q1                     141.5\n",
      "41   2007Q2                     142.4\n",
      "44   2007Q3                     142.3\n",
      "47   2007Q4                     142.2\n",
      "50   2008Q1                     146.6\n",
      "53   2008Q2                     146.4\n",
      "56   2008Q3                     151.4\n",
      "59   2008Q4                     153.5\n",
      "62   2009Q1                     156.6\n",
      "65   2009Q2                     159.6\n",
      "68   2009Q3                     156.0\n",
      "71   2009Q4                     155.2\n",
      "74   2010Q1                     155.3\n",
      "77   2010Q2                     155.3\n",
      "80   2010Q3                     155.3\n",
      "83   2010Q4                     156.3\n",
      "86   2011Q1                     157.4\n",
      "89   2011Q2                     160.7\n",
      "92   2011Q3                     159.8\n",
      "95   2011Q4                     162.6\n",
      "98   2012Q1                     162.9\n",
      "101  2012Q2                     163.4\n",
      "104  2012Q3                     163.2\n",
      "107  2012Q4                     164.0\n",
      "110  2013Q1                     163.1\n",
      "113  2013Q2                     167.6\n",
      "116  2013Q3                     167.0\n",
      "119  2013Q4                     165.9\n"
     ]
    }
   ],
   "source": [
    "homeImpro_data = homeImpro_data[(homeImpro_data.Date.str.contains(\"-\") == False)]\n",
    "print(homeImpro_data)"
   ]
  },
  {
   "cell_type": "code",
   "execution_count": 50,
   "id": "ed4e5e56",
   "metadata": {},
   "outputs": [
    {
     "name": "stdout",
     "output_type": "stream",
     "text": [
      "      Date  Men's Shoes  Home Improvement's price\n",
      "0   2004Q1        840.1                     127.8\n",
      "1   2004Q2        854.5                     129.3\n",
      "2   2004Q3        842.8                     128.9\n",
      "3   2004Q4        841.5                     131.7\n",
      "4   2005Q1        849.9                     137.3\n",
      "5   2005Q2        878.2                     137.8\n",
      "6   2005Q3        890.9                     136.4\n",
      "7   2005Q4        862.7                     136.7\n",
      "8   2006Q1        875.8                     139.5\n",
      "9   2006Q2        892.0                     139.3\n",
      "10  2006Q3        888.7                     140.9\n",
      "11  2006Q4        889.6                     141.2\n",
      "12  2007Q1        862.7                     141.5\n",
      "13  2007Q2        848.5                     142.4\n",
      "14  2007Q3        870.3                     142.3\n",
      "15  2007Q4        863.3                     142.2\n",
      "16  2008Q1        879.1                     146.6\n",
      "17  2008Q2        895.2                     146.4\n",
      "18  2008Q3        902.9                     151.4\n",
      "19  2008Q4        909.3                     153.5\n",
      "20  2009Q1        912.9                     156.6\n",
      "21  2009Q2        920.0                     159.6\n",
      "22  2009Q3        920.6                     156.0\n",
      "23  2009Q4        934.1                     155.2\n",
      "24  2010Q1        925.6                     155.3\n",
      "25  2010Q2        930.5                     155.3\n",
      "26  2010Q3        918.1                     155.3\n",
      "27  2010Q4        906.3                     156.3\n",
      "28  2011Q1        937.5                     157.4\n",
      "29  2011Q2        954.6                     160.7\n",
      "30  2011Q3        971.2                     159.8\n",
      "31  2011Q4        947.2                     162.6\n",
      "32  2012Q1        952.4                     162.9\n",
      "33  2012Q2        969.4                     163.4\n",
      "34  2012Q3        974.8                     163.2\n",
      "35  2012Q4        985.2                     164.0\n",
      "36  2013Q1       1005.3                     163.1\n",
      "37  2013Q2        994.5                     167.6\n",
      "38  2013Q3       1003.1                     167.0\n",
      "39  2013Q4        993.2                     165.9\n"
     ]
    }
   ],
   "source": [
    "# merge the data into one dataframe\n",
    "merged_data = pd.merge(menShoes_data, homeImpro_data, on='Date')\n",
    "print(merged_data)"
   ]
  },
  {
   "cell_type": "code",
   "execution_count": 51,
   "id": "b004738d",
   "metadata": {},
   "outputs": [
    {
     "data": {
      "text/plain": [
       "Text(0.5, 0, 'Dates')"
      ]
     },
     "execution_count": 51,
     "metadata": {},
     "output_type": "execute_result"
    },
    {
     "data": {
      "image/png": "[encoded data removed]",
      "text/plain": [
       "<Figure size 2000x700 with 1 Axes>"
      ]
     },
     "metadata": {},
     "output_type": "display_data"
    }
   ],
   "source": [
    "# plotting the bar chart\n",
    "ax = merged_data.plot(kind='bar', figsize=(20, 7))\n",
    "ax.set_xticklabels(merged_data.Date)\n",
    "ax.set_ylabel('Men\\'s Shoes price vs Home Improvement\\'s price - 12-month change')\n",
    "ax.set_xlabel('Dates')"
   ]
  }
 ],
 "metadata": {
  "kernelspec": {
   "display_name": "Python 3 (ipykernel)",
   "language": "python",
   "name": "python3"
  },
  "language_info": {
   "codemirror_mode": {
    "name": "ipython",
    "version": 3
   },
   "file_extension": ".py",
   "mimetype": "text/x-python",
   "name": "python",
   "nbconvert_exporter": "python",
   "pygments_lexer": "ipython3",
   "version": "3.10.8"
  }
 },
 "nbformat": 4,
 "nbformat_minor": 5
}
