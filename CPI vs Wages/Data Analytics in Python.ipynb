{
 "cells": [
  {
   "cell_type": "code",
   "execution_count": 116,
   "id": "4f0a2b46",
   "metadata": {},
   "outputs": [],
   "source": [
    "#pip install bls\n",
    "#https://data.bls.gov/registrationEngine/\n",
    "#export BLS_API_KEY="
   ]
  },
  {
   "cell_type": "code",
   "execution_count": 117,
   "id": "53eeb23a",
   "metadata": {},
   "outputs": [],
   "source": [
    "#import neccessary library\n",
    "import pandas as pd\n",
    "import matplotlib as plt\n",
    "import numpy as np\n",
    "import bls"
   ]
  },
  {
   "cell_type": "code",
   "execution_count": 118,
   "id": "87f2b2b6",
   "metadata": {},
   "outputs": [
    {
     "name": "stdout",
     "output_type": "stream",
     "text": [
      "date\n",
      "2014Q1    1.8\n",
      "2014Q2    2.0\n",
      "2014Q3    2.2\n",
      "2014Q4    2.2\n",
      "2015Q1    2.6\n",
      "2015Q2    2.0\n",
      "2015Q3    2.0\n",
      "2015Q4    2.0\n",
      "2016Q1    1.9\n",
      "2016Q2    2.3\n",
      "2016Q3    2.3\n",
      "2016Q4    2.2\n",
      "2017Q1    2.4\n",
      "2017Q2    2.4\n",
      "2017Q3    2.5\n",
      "2017Q4    2.6\n",
      "2018Q1    2.7\n",
      "2018Q2    2.8\n",
      "2018Q3    2.8\n",
      "2018Q4    2.9\n",
      "2019Q1    2.8\n",
      "2019Q2    2.7\n",
      "2019Q3    2.8\n",
      "2019Q4    2.7\n",
      "2020Q1    2.8\n",
      "2020Q2    2.7\n",
      "2020Q3    2.4\n",
      "2020Q4    2.5\n",
      "2021Q1    2.6\n",
      "2021Q2    2.9\n",
      "2021Q3    3.7\n",
      "2021Q4    4.0\n",
      "2022Q1    4.5\n",
      "2022Q2    5.1\n",
      "2022Q3    5.0\n",
      "2022Q4    5.1\n",
      "2023Q1    4.8\n",
      "Freq: Q-DEC, Name: CIU1010000000000A, dtype: float64\n"
     ]
    },
    {
     "name": "stderr",
     "output_type": "stream",
     "text": [
      "/Users/raymondli/miniconda3/lib/python3.10/site-packages/bls/api.py:106: UserWarning: Could not infer format, so each element will be parsed individually, falling back to `dateutil`. To ensure parsing is consistent and as-expected, please specify a format.\n",
      "  df.assign(date=pd.to_datetime(\n"
     ]
    }
   ],
   "source": [
    "# get the wages data, namely Employment Cost Index, from US BLS\n",
    "wages = bls.get_series('CIU1010000000000A')\n",
    "print(wages)"
   ]
  },
  {
   "cell_type": "code",
   "execution_count": 119,
   "id": "401dfa9f",
   "metadata": {},
   "outputs": [
    {
     "name": "stdout",
     "output_type": "stream",
     "text": [
      "      Date  Wages\n",
      "0   2014Q1    1.8\n",
      "1   2014Q2    2.0\n",
      "2   2014Q3    2.2\n",
      "3   2014Q4    2.2\n",
      "4   2015Q1    2.6\n",
      "5   2015Q2    2.0\n",
      "6   2015Q3    2.0\n",
      "7   2015Q4    2.0\n",
      "8   2016Q1    1.9\n",
      "9   2016Q2    2.3\n",
      "10  2016Q3    2.3\n",
      "11  2016Q4    2.2\n",
      "12  2017Q1    2.4\n",
      "13  2017Q2    2.4\n",
      "14  2017Q3    2.5\n",
      "15  2017Q4    2.6\n",
      "16  2018Q1    2.7\n",
      "17  2018Q2    2.8\n",
      "18  2018Q3    2.8\n",
      "19  2018Q4    2.9\n",
      "20  2019Q1    2.8\n",
      "21  2019Q2    2.7\n",
      "22  2019Q3    2.8\n",
      "23  2019Q4    2.7\n",
      "24  2020Q1    2.8\n",
      "25  2020Q2    2.7\n",
      "26  2020Q3    2.4\n",
      "27  2020Q4    2.5\n",
      "28  2021Q1    2.6\n",
      "29  2021Q2    2.9\n",
      "30  2021Q3    3.7\n",
      "31  2021Q4    4.0\n",
      "32  2022Q1    4.5\n",
      "33  2022Q2    5.1\n",
      "34  2022Q3    5.0\n",
      "35  2022Q4    5.1\n",
      "36  2023Q1    4.8\n"
     ]
    }
   ],
   "source": [
    "# store the wage data into a new csv file\n",
    "# convert the Wage data into a dataframe\n",
    "wages.to_csv('bls_wage_data.csv')\n",
    "df = pd.read_csv('bls_wage_data.csv')\n",
    "df.columns = 'Date', 'Wages'\n",
    "print(df)"
   ]
  },
  {
   "cell_type": "code",
   "execution_count": 120,
   "id": "58302d6f",
   "metadata": {},
   "outputs": [
    {
     "name": "stdout",
     "output_type": "stream",
     "text": [
      "        Date      CPI\n",
      "0    2014-01  233.916\n",
      "1    2014-02  234.781\n",
      "2    2014-03  236.293\n",
      "3    2014-04  237.072\n",
      "4    2014-05  237.900\n",
      "..       ...      ...\n",
      "109  2023-02  300.840\n",
      "110  2023-03  301.836\n",
      "111  2023-04  303.363\n",
      "112  2023-05  304.127\n",
      "113  2023-06  305.109\n",
      "\n",
      "[114 rows x 2 columns]\n"
     ]
    }
   ],
   "source": [
    "# get the CPI data from US BLS\n",
    "# convert the data to csv file as cpi_data.csv\n",
    "# adding two column headers (Date and CPI)\n",
    "cpi = bls.get_series('CUUR0000SA0')\n",
    "cpi.to_csv('cpi_data.csv')\n",
    "cpi_data = pd.read_csv('cpi_data.csv')\n",
    "cpi_data.columns = 'Date', 'CPI'\n",
    "print(cpi_data)"
   ]
  },
  {
   "cell_type": "code",
   "execution_count": 133,
   "id": "225fbefe",
   "metadata": {},
   "outputs": [
    {
     "name": "stdout",
     "output_type": "stream",
     "text": [
      "0      2014-01\n",
      "1      2014-02\n",
      "2       2014Q1\n",
      "3      2014-04\n",
      "4      2014-05\n",
      "        ...   \n",
      "109    2023-02\n",
      "110     2023Q1\n",
      "111    2023-04\n",
      "112    2023-05\n",
      "113     2023Q2\n",
      "Name: Date, Length: 114, dtype: object\n"
     ]
    }
   ],
   "source": [
    "# Ensure the Date in cpi match with the date format in wages data set.\n",
    "cpi_data['Date'] = cpi_data['Date'].str.replace('-0\\\n",
    "3', 'Q1')\n",
    "cpi_data['Date'] = cpi_data['Date'].str.replace('-0\\\n",
    "6', 'Q2')\n",
    "cpi_data['Date'] = cpi_data['Date'].str.replace('-0\\\n",
    "9', 'Q3')\n",
    "cpi_data['Date'] = cpi_data['Date'].str.replace('-1\\\n",
    "2', 'Q4')\n",
    "print(cpi_data['Date'])"
   ]
  },
  {
   "cell_type": "code",
   "execution_count": 134,
   "id": "5464e1cf",
   "metadata": {},
   "outputs": [
    {
     "name": "stdout",
     "output_type": "stream",
     "text": [
      "       Date      CPI\n",
      "2    2014Q1  236.293\n",
      "5    2014Q2  238.343\n",
      "8    2014Q3  238.031\n",
      "11   2014Q4  234.812\n",
      "14   2015Q1  236.119\n",
      "17   2015Q2  238.638\n",
      "20   2015Q3  237.945\n",
      "23   2015Q4  236.525\n",
      "26   2016Q1  238.132\n",
      "29   2016Q2  241.018\n",
      "32   2016Q3  241.428\n",
      "35   2016Q4  241.432\n",
      "38   2017Q1  243.801\n",
      "41   2017Q2  244.955\n",
      "44   2017Q3  246.819\n",
      "47   2017Q4  246.524\n",
      "50   2018Q1  249.554\n",
      "53   2018Q2  251.989\n",
      "56   2018Q3  252.439\n",
      "59   2018Q4  251.233\n",
      "62   2019Q1  254.202\n",
      "65   2019Q2  256.143\n",
      "68   2019Q3  256.759\n",
      "71   2019Q4  256.974\n",
      "74   2020Q1  258.115\n",
      "77   2020Q2  257.797\n",
      "80   2020Q3  260.280\n",
      "83   2020Q4  260.474\n",
      "86   2021Q1  264.877\n",
      "89   2021Q2  271.696\n",
      "92   2021Q3  274.310\n",
      "95   2021Q4  278.802\n",
      "98   2022Q1  287.504\n",
      "101  2022Q2  296.311\n",
      "104  2022Q3  296.808\n",
      "107  2022Q4  296.797\n",
      "110  2023Q1  301.836\n",
      "113  2023Q2  305.109\n"
     ]
    }
   ],
   "source": [
    "# Drop the row that is not related to quarter \n",
    "newCPI_data = cpi_data[(cpi_data.Date.str.contains(\\\n",
    "\"-\") == False)]\n",
    "print(newCPI_data)"
   ]
  },
  {
   "cell_type": "code",
   "execution_count": 123,
   "id": "585005c2",
   "metadata": {},
   "outputs": [],
   "source": [
    "# store the preprocessing cpi data into new file\n",
    "newCPI_data.to_csv('cpi_clean.csv')"
   ]
  },
  {
   "cell_type": "code",
   "execution_count": 127,
   "id": "290a39a6",
   "metadata": {},
   "outputs": [
    {
     "name": "stdout",
     "output_type": "stream",
     "text": [
      "      Date       Wages\n",
      "0   2014Q1  237.356319\n",
      "1   2014Q2  237.474465\n",
      "2   2014Q3  237.592612\n",
      "3   2014Q4  237.592612\n",
      "4   2015Q1  237.828904\n",
      "5   2015Q2  237.474465\n",
      "6   2015Q3  237.474465\n",
      "7   2015Q4  237.474465\n",
      "8   2016Q1  237.415392\n",
      "9   2016Q2  237.651685\n",
      "10  2016Q3  237.651685\n",
      "11  2016Q4  237.592612\n",
      "12  2017Q1  237.710758\n",
      "13  2017Q2  237.710758\n",
      "14  2017Q3  237.769831\n",
      "15  2017Q4  237.828904\n",
      "16  2018Q1  237.887978\n",
      "17  2018Q2  237.947051\n",
      "18  2018Q3  237.947051\n",
      "19  2018Q4  238.006124\n",
      "20  2019Q1  237.947051\n",
      "21  2019Q2  237.887978\n",
      "22  2019Q3  237.947051\n",
      "23  2019Q4  237.887978\n",
      "24  2020Q1  237.947051\n",
      "25  2020Q2  237.887978\n",
      "26  2020Q3  237.710758\n",
      "27  2020Q4  237.769831\n",
      "28  2021Q1  237.828904\n",
      "29  2021Q2  238.006124\n",
      "30  2021Q3  238.478710\n",
      "31  2021Q4  238.655930\n",
      "32  2022Q1  238.951296\n",
      "33  2022Q2  239.305736\n",
      "34  2022Q3  239.246663\n",
      "35  2022Q4  239.305736\n",
      "36  2023Q1  239.128516\n"
     ]
    }
   ],
   "source": [
    "#copy the df and calculate the wage which fit with the calculation of CPI\n",
    "#use 2014Q1  236.293 as base\n",
    "newdf = df\n",
    "\n",
    "def process_wages(x):\n",
    "    newnum = 236.293\n",
    "    if type(x) is str:\n",
    "        return x\n",
    "    elif x: \n",
    "#         (new - old)/old * 100 * 4 = ans  => new = ans / 400 * old + old\n",
    "        newnum = (x / 400) * newnum + newnum\n",
    "        return newnum\n",
    "    else: \n",
    "        return\n",
    "\n",
    "newWages = newdf.applymap(process_wages) \n",
    "print(newWages)"
   ]
  },
  {
   "cell_type": "code",
   "execution_count": 136,
   "id": "fa416bbe",
   "metadata": {},
   "outputs": [
    {
     "name": "stdout",
     "output_type": "stream",
     "text": [
      "      Date      CPI       Wages\n",
      "0   2014Q1  236.293  237.356319\n",
      "1   2014Q2  238.343  237.474465\n",
      "2   2014Q3  238.031  237.592612\n",
      "3   2014Q4  234.812  237.592612\n",
      "4   2015Q1  236.119  237.828904\n",
      "5   2015Q2  238.638  237.474465\n",
      "6   2015Q3  237.945  237.474465\n",
      "7   2015Q4  236.525  237.474465\n",
      "8   2016Q1  238.132  237.415392\n",
      "9   2016Q2  241.018  237.651685\n",
      "10  2016Q3  241.428  237.651685\n",
      "11  2016Q4  241.432  237.592612\n",
      "12  2017Q1  243.801  237.710758\n",
      "13  2017Q2  244.955  237.710758\n",
      "14  2017Q3  246.819  237.769831\n",
      "15  2017Q4  246.524  237.828904\n",
      "16  2018Q1  249.554  237.887978\n",
      "17  2018Q2  251.989  237.947051\n",
      "18  2018Q3  252.439  237.947051\n",
      "19  2018Q4  251.233  238.006124\n",
      "20  2019Q1  254.202  237.947051\n",
      "21  2019Q2  256.143  237.887978\n",
      "22  2019Q3  256.759  237.947051\n",
      "23  2019Q4  256.974  237.887978\n",
      "24  2020Q1  258.115  237.947051\n",
      "25  2020Q2  257.797  237.887978\n",
      "26  2020Q3  260.280  237.710758\n",
      "27  2020Q4  260.474  237.769831\n",
      "28  2021Q1  264.877  237.828904\n",
      "29  2021Q2  271.696  238.006124\n",
      "30  2021Q3  274.310  238.478710\n",
      "31  2021Q4  278.802  238.655930\n",
      "32  2022Q1  287.504  238.951296\n",
      "33  2022Q2  296.311  239.305736\n",
      "34  2022Q3  296.808  239.246663\n",
      "35  2022Q4  296.797  239.305736\n",
      "36  2023Q1  301.836  239.128516\n"
     ]
    }
   ],
   "source": [
    "# merge the preprocessing data into one dataframe\n",
    "merged_data = pd.merge(newCPI_data, newWages, on=\"Date\")\n",
    "print(merged_data)"
   ]
  },
  {
   "cell_type": "code",
   "execution_count": 140,
   "id": "bb4351af",
   "metadata": {},
   "outputs": [
    {
     "name": "stderr",
     "output_type": "stream",
     "text": [
      "/var/folders/1s/hjk6vgwx413bb0gvk7wfl_z40000gn/T/ipykernel_19072/2266764097.py:3: UserWarning: FixedFormatter should only be used together with FixedLocator\n",
      "  ax.set_xticklabels(merged_data.Date)\n"
     ]
    },
    {
     "data": {
      "text/plain": [
       "Text(0.5, 0, 'Dates')"
      ]
     },
     "execution_count": 140,
     "metadata": {},
     "output_type": "execute_result"
    },
    {
     "data": {
      "image/png": "[encoded data removed]",
      "text/plain": [
       "<Figure size 2000x700 with 1 Axes>"
      ]
     },
     "metadata": {},
     "output_type": "display_data"
    }
   ],
   "source": [
    "# plotting a bar chart using pandas\n",
    "ax = merged_data.plot(kind=\"line\", figsize=(20, 7))\n",
    "ax.set_xticklabels(merged_data.Date)\n",
    "ax.set_ylabel('CPI vs. Wages and salaries - 12-month change')\n",
    "ax.set_xlabel('Dates')"
   ]
  },
  {
   "cell_type": "code",
   "execution_count": null,
   "id": "47f60f9d",
   "metadata": {},
   "outputs": [],
   "source": []
  }
 ],
 "metadata": {
  "kernelspec": {
   "display_name": "Python 3 (ipykernel)",
   "language": "python",
   "name": "python3"
  },
  "language_info": {
   "codemirror_mode": {
    "name": "ipython",
    "version": 3
   },
   "file_extension": ".py",
   "mimetype": "text/x-python",
   "name": "python",
   "nbconvert_exporter": "python",
   "pygments_lexer": "ipython3",
   "version": "3.10.8"
  }
 },
 "nbformat": 4,
 "nbformat_minor": 5
}
