{
 "cells": [
  {
   "cell_type": "code",
   "execution_count": 37,
   "id": "ed50adaa",
   "metadata": {},
   "outputs": [],
   "source": [
    "# import neccessary library\n",
    "import pandas as pd\n",
    "import matplotlib as plt\n",
    "import numpy as np\n",
    "import bls"
   ]
  },
  {
   "cell_type": "code",
   "execution_count": 38,
   "id": "848709a4",
   "metadata": {},
   "outputs": [
    {
     "name": "stdout",
     "output_type": "stream",
     "text": [
      "        Date     Open     High      Low    Close\n",
      "0   07/24/23  4543.39  4563.41  4541.29  4554.64\n",
      "1   07/21/23  4550.16  4555.00  4535.79  4536.34\n",
      "2   07/20/23  4554.38  4564.74  4527.56  4534.87\n",
      "3   07/19/23  4563.87  4578.43  4557.48  4565.72\n",
      "4   07/18/23  4521.78  4562.30  4514.59  4554.98\n",
      "..       ...      ...      ...      ...      ...\n",
      "56  5/2/2023  4164.10  4164.10  4089.72  4119.58\n",
      "57  5/1/2023  4166.79  4186.92  4164.12  4167.87\n",
      "58  04/28/23  4129.63  4170.06  4127.18  4169.48\n",
      "59  04/27/23  4075.29  4138.24  4075.29  4135.35\n",
      "60  04/26/23  4087.78  4089.67  4049.35  4055.99\n",
      "\n",
      "[61 rows x 5 columns]\n"
     ]
    }
   ],
   "source": [
    "sp = pd.read_csv('HistoricalPrices.csv')\n",
    "print(sp)"
   ]
  },
  {
   "cell_type": "code",
   "execution_count": 39,
   "id": "54e68e37",
   "metadata": {},
   "outputs": [
    {
     "name": "stderr",
     "output_type": "stream",
     "text": [
      "/var/folders/1s/hjk6vgwx413bb0gvk7wfl_z40000gn/T/ipykernel_21635/4179580781.py:2: UserWarning: Could not infer format, so each element will be parsed individually, falling back to `dateutil`. To ensure parsing is consistent and as-expected, please specify a format.\n",
      "  sp['Date'] = sp['Date'].astype('datetime64[ns]')\n"
     ]
    }
   ],
   "source": [
    "# change the date by quarter\n",
    "sp['Date'] = sp['Date'].astype('datetime64[ns]')\n",
    "sp['Date'] = sp['Date'].dt.strftime(\"%Y-%m-%d\")\n",
    "sp['Date'] = sp['Date'].str.replace('-03-31', 'Q1')\n",
    "sp['Date'] = sp['Date'].str.replace('-06-30', 'Q2')\n",
    "sp['Date'] = sp['Date'].str.replace('-09-30', 'Q3')\n",
    "sp['Date'] = sp['Date'].str.replace('-12-31', 'Q4')"
   ]
  },
  {
   "cell_type": "code",
   "execution_count": 40,
   "id": "f90b6170",
   "metadata": {},
   "outputs": [
    {
     "name": "stdout",
     "output_type": "stream",
     "text": [
      "          Date     Open     High      Low    Close\n",
      "0   2023-07-24  4543.39  4563.41  4541.29  4554.64\n",
      "1   2023-07-21  4550.16  4555.00  4535.79  4536.34\n",
      "2   2023-07-20  4554.38  4564.74  4527.56  4534.87\n",
      "3   2023-07-19  4563.87  4578.43  4557.48  4565.72\n",
      "4   2023-07-18  4521.78  4562.30  4514.59  4554.98\n",
      "..         ...      ...      ...      ...      ...\n",
      "56  2023-05-02  4164.10  4164.10  4089.72  4119.58\n",
      "57  2023-05-01  4166.79  4186.92  4164.12  4167.87\n",
      "58  2023-04-28  4129.63  4170.06  4127.18  4169.48\n",
      "59  2023-04-27  4075.29  4138.24  4075.29  4135.35\n",
      "60  2023-04-26  4087.78  4089.67  4049.35  4055.99\n",
      "\n",
      "[61 rows x 5 columns]\n"
     ]
    }
   ],
   "source": [
    "print(sp)"
   ]
  },
  {
   "cell_type": "code",
   "execution_count": 43,
   "id": "22494930",
   "metadata": {},
   "outputs": [
    {
     "name": "stdout",
     "output_type": "stream",
     "text": [
      "      Date    Close\n",
      "15  2023Q2  4450.38\n"
     ]
    }
   ],
   "source": [
    "sp = sp[(sp.Date.str.contains('Q') == True)]\n",
    "sp1 = sp[['Date', 'Close']]\n",
    "print(sp1.head())"
   ]
  }
 ],
 "metadata": {
  "kernelspec": {
   "display_name": "Python 3 (ipykernel)",
   "language": "python",
   "name": "python3"
  },
  "language_info": {
   "codemirror_mode": {
    "name": "ipython",
    "version": 3
   },
   "file_extension": ".py",
   "mimetype": "text/x-python",
   "name": "python",
   "nbconvert_exporter": "python",
   "pygments_lexer": "ipython3",
   "version": "3.10.8"
  }
 },
 "nbformat": 4,
 "nbformat_minor": 5
}
